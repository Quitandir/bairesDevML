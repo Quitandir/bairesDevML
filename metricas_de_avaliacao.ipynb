{
  "nbformat": 4,
  "nbformat_minor": 0,
  "metadata": {
    "colab": {
      "provenance": [],
      "authorship_tag": "ABX9TyMxX5AWhIu1xwUP4TiGn0Hs",
      "include_colab_link": true
    },
    "kernelspec": {
      "name": "python3",
      "display_name": "Python 3"
    },
    "language_info": {
      "name": "python"
    }
  },
  "cells": [
    {
      "cell_type": "markdown",
      "metadata": {
        "id": "view-in-github",
        "colab_type": "text"
      },
      "source": [
        "<a href=\"https://colab.research.google.com/github/Quitandir/bairesDevML/blob/main/metricas_de_avaliacao.ipynb\" target=\"_parent\"><img src=\"https://colab.research.google.com/assets/colab-badge.svg\" alt=\"Open In Colab\"/></a>"
      ]
    },
    {
      "cell_type": "code",
      "execution_count": 3,
      "metadata": {
        "id": "jldFAnNR59H9",
        "colab": {
          "base_uri": "https://localhost:8080/"
        },
        "outputId": "e32f771d-3fc0-4b70-c7f3-2fdc44e48f41"
      },
      "outputs": [
        {
          "output_type": "stream",
          "name": "stdout",
          "text": [
            "Acurácia: 0.7894736842105263\n",
            "Sensibilidade: 0.8888888888888888\n",
            "Especificidade: 0.7\n",
            "Precisão: 0.7272727272727273\n",
            "F-score: 0.7999999999999999\n"
          ]
        }
      ],
      "source": [
        "# definindo valores para a matriz de confusão\n",
        "VP = 40\n",
        "FP = 15\n",
        "VN = 35\n",
        "FN = 5\n",
        "\n",
        "# calculando métricas\n",
        "acuracia = (VP + VN) / (VP + VN + FP + FN)\n",
        "sensibilidade = VP / (VP + FN)\n",
        "especificidade = VN / (VN + FP)\n",
        "precisao = VP / (VP + FP)\n",
        "Fscore = 2 * (precisao * sensibilidade) / (precisao + sensibilidade)\n",
        "\n",
        "print(\"Acurácia:\", acuracia)\n",
        "print(\"Sensibilidade:\", sensibilidade)\n",
        "print(\"Especificidade:\", especificidade)\n",
        "print(\"Precisão:\", precisao)\n",
        "print(\"F-score:\", Fscore)\n"
      ]
    }
  ]
}